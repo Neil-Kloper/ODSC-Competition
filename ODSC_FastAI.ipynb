{
  "nbformat": 4,
  "nbformat_minor": 0,
  "metadata": {
    "colab": {
      "name": "ODSC_FastAI.ipynb",
      "provenance": [],
      "collapsed_sections": [],
      "include_colab_link": true
    },
    "kernelspec": {
      "name": "python3",
      "display_name": "Python 3"
    },
    "accelerator": "GPU"
  },
  "cells": [
    {
      "cell_type": "markdown",
      "metadata": {
        "id": "view-in-github",
        "colab_type": "text"
      },
      "source": [
        "<a href=\"https://colab.research.google.com/github/Neil-Kloper/ODSC-Competition/blob/master/ODSC_FastAI.ipynb\" target=\"_parent\"><img src=\"https://colab.research.google.com/assets/colab-badge.svg\" alt=\"Open In Colab\"/></a>"
      ]
    },
    {
      "cell_type": "markdown",
      "metadata": {
        "id": "k9PU2kNT_7po",
        "colab_type": "text"
      },
      "source": [
        "#ODSC Hackathon Submission, Featuring FastAI Tabular models\n",
        "\n",
        "Video description: https://www.youtube.com/watch?v=ILvwgQv2p4k\n",
        "\n",
        "First I will begin by reading in the data."
      ]
    },
    {
      "cell_type": "code",
      "metadata": {
        "id": "i2zPGtCv4OuG",
        "colab_type": "code",
        "colab": {
          "base_uri": "https://localhost:8080/",
          "height": 122
        },
        "outputId": "70b215b7-33a7-4e7f-b198-562b63a62068"
      },
      "source": [
        "from google.colab import drive\n",
        "drive.mount('/content/drive')"
      ],
      "execution_count": 1,
      "outputs": [
        {
          "output_type": "stream",
          "text": [
            "Go to this URL in a browser: https://accounts.google.com/o/oauth2/auth?client_id=947318989803-6bn6qk8qdgf4n4g3pfee6491hc0brc4i.apps.googleusercontent.com&redirect_uri=urn%3aietf%3awg%3aoauth%3a2.0%3aoob&scope=email%20https%3a%2f%2fwww.googleapis.com%2fauth%2fdocs.test%20https%3a%2f%2fwww.googleapis.com%2fauth%2fdrive%20https%3a%2f%2fwww.googleapis.com%2fauth%2fdrive.photos.readonly%20https%3a%2f%2fwww.googleapis.com%2fauth%2fpeopleapi.readonly&response_type=code\n",
            "\n",
            "Enter your authorization code:\n",
            "··········\n",
            "Mounted at /content/drive\n"
          ],
          "name": "stdout"
        }
      ]
    },
    {
      "cell_type": "code",
      "metadata": {
        "id": "VYdh2aA-kKd7",
        "colab_type": "code",
        "colab": {}
      },
      "source": [
        "import pandas as pd\n",
        "odsc_train = pd.read_csv('/content/drive/My Drive/ODSC comp/train_set.csv')\n",
        "solutions = pd.read_csv('/content/drive/My Drive/ODSC comp/test_solutions (1).csv')\n",
        "odsc_test = pd.read_csv('/content/drive/My Drive/ODSC comp/test_set (1).csv')\n",
        "odsc_train.drop('profile_id', axis=1, inplace=True)"
      ],
      "execution_count": 2,
      "outputs": []
    },
    {
      "cell_type": "code",
      "metadata": {
        "id": "tq9fYVEllxgv",
        "colab_type": "code",
        "colab": {}
      },
      "source": [
        "test_cols = list(odsc_test.columns)\n",
        "train_cols = list(odsc_train.columns)\n",
        "y_cols = list(solutions.columns)\n",
        "# Profile ID is the columns thats exclusive to the training set"
      ],
      "execution_count": 3,
      "outputs": []
    },
    {
      "cell_type": "code",
      "metadata": {
        "id": "7loQzbRYQBmt",
        "colab_type": "code",
        "colab": {}
      },
      "source": [
        "# to experiment with, results weren't all that great.\n",
        "\n",
        "# from itertools import combinations\n",
        "# for combo in combinations(test_cols, 2):\n",
        "#   odsc_train[combo[0]+'_'+combo[1]] = odsc_train[combo[0]] * odsc_train[combo[1]]\n",
        "#   odsc_test[combo[0]+'_'+combo[1]] = odsc_test[combo[0]] * odsc_test[combo[1]]\n",
        "# print(odsc_train.shape, odsc_test.shape)\n",
        "\n",
        "# test_cols = list(odsc_test.columns)\n",
        "# train_cols = list(odsc_train.columns)\n",
        "# y_cols = list(solutions.columns)"
      ],
      "execution_count": null,
      "outputs": []
    },
    {
      "cell_type": "markdown",
      "metadata": {
        "id": "HogKeFdmAb_g",
        "colab_type": "text"
      },
      "source": [
        "### Next, I will load the data into a databunch object, and lebel the appropriate columns for the models"
      ]
    },
    {
      "cell_type": "code",
      "metadata": {
        "id": "jw-WWxxi8lhj",
        "colab_type": "code",
        "colab": {}
      },
      "source": [
        "from fastai.tabular import *\n",
        "\n",
        "cat_names = []\n",
        "cont_names = test_cols\n",
        "\n",
        "dep_var = y_cols\n",
        "procs = [FillMissing, Categorify, Normalize]\n",
        "\n",
        "FillMissing.FillStrategy='MEAN'\n",
        "\n",
        "PATH = Path('/content/drive/My Drive/ODSC comp/')\n",
        "\n",
        "test = TabularList.from_df(odsc_test[test_cols], path=PATH, cat_names=cat_names, cont_names=cont_names)\n",
        "\n",
        "for col in train_cols:\n",
        "  odsc_train[col] = odsc_train[col].astype(float)"
      ],
      "execution_count": 4,
      "outputs": []
    },
    {
      "cell_type": "code",
      "metadata": {
        "id": "cxkfsofN9krQ",
        "colab_type": "code",
        "colab": {}
      },
      "source": [
        "data = (TabularList.from_df(odsc_train[train_cols],path=PATH,\n",
        "                            cat_names=[], \n",
        "                            cont_names=test_cols,\n",
        "                            procs=procs)\n",
        "                           .split_by_rand_pct(valid_pct=0.2)\n",
        "                          #  .split_by_idx(valid_idx = range(len(odsc_train)-100000, len(odsc_train)))\n",
        "                           .label_from_df(cols = y_cols, label_cls = FloatList)\n",
        "                           .add_test(test)\n",
        "                           .databunch())"
      ],
      "execution_count": 5,
      "outputs": []
    },
    {
      "cell_type": "code",
      "metadata": {
        "id": "GJKgw2H7_l-k",
        "colab_type": "code",
        "colab": {
          "base_uri": "https://localhost:8080/",
          "height": 142
        },
        "outputId": "71218b44-c623-470d-b11a-44b94b1cc050"
      },
      "source": [
        "data.show_batch(rows=3)"
      ],
      "execution_count": null,
      "outputs": [
        {
          "output_type": "display_data",
          "data": {
            "text/html": [
              "<table border=\"1\" class=\"dataframe\">\n",
              "  <thead>\n",
              "    <tr style=\"text-align: right;\">\n",
              "      <th>ambient</th>\n",
              "      <th>coolant</th>\n",
              "      <th>u_d</th>\n",
              "      <th>u_q</th>\n",
              "      <th>motor_speed</th>\n",
              "      <th>torque</th>\n",
              "      <th>i_d</th>\n",
              "      <th>i_q</th>\n",
              "      <th>target</th>\n",
              "    </tr>\n",
              "  </thead>\n",
              "  <tbody>\n",
              "    <tr>\n",
              "      <td>1.5977</td>\n",
              "      <td>0.5735</td>\n",
              "      <td>2.1817</td>\n",
              "      <td>-0.6755</td>\n",
              "      <td>0.4723</td>\n",
              "      <td>-1.9241</td>\n",
              "      <td>-1.7003</td>\n",
              "      <td>-1.7523</td>\n",
              "      <td>[1.753744 1.685668 1.391261 1.885541]</td>\n",
              "    </tr>\n",
              "    <tr>\n",
              "      <td>-1.0728</td>\n",
              "      <td>-1.0718</td>\n",
              "      <td>0.2906</td>\n",
              "      <td>-1.2618</td>\n",
              "      <td>-1.2107</td>\n",
              "      <td>-0.1756</td>\n",
              "      <td>1.0151</td>\n",
              "      <td>-0.2041</td>\n",
              "      <td>[ 1.250836  0.676842 -0.030785  1.004012]</td>\n",
              "    </tr>\n",
              "    <tr>\n",
              "      <td>0.8950</td>\n",
              "      <td>1.6935</td>\n",
              "      <td>-0.0484</td>\n",
              "      <td>-0.4245</td>\n",
              "      <td>-0.7751</td>\n",
              "      <td>0.3915</td>\n",
              "      <td>0.8117</td>\n",
              "      <td>0.5027</td>\n",
              "      <td>[1.103046 1.685879 1.941016 1.261607]</td>\n",
              "    </tr>\n",
              "  </tbody>\n",
              "</table>"
            ],
            "text/plain": [
              "<IPython.core.display.HTML object>"
            ]
          },
          "metadata": {
            "tags": []
          }
        }
      ]
    },
    {
      "cell_type": "markdown",
      "metadata": {
        "id": "EOPPHX7IAvUQ",
        "colab_type": "text"
      },
      "source": [
        "### Model creation and training\n",
        "\n",
        "Below I have the code used to create a veriety of different models. I expiremented with different architectures, learning rates, and epochs. the goal was to create a diverse and useful set of models."
      ]
    },
    {
      "cell_type": "code",
      "metadata": {
        "id": "AeO7OiHkB81s",
        "colab_type": "code",
        "colab": {}
      },
      "source": [
        "learn = tabular_learner(data, layers=[1000 ,800, 600, 400, 200, 100, 16], emb_drop=0.2, metrics=[mae, rmse],callback_fns=ShowGraph)"
      ],
      "execution_count": null,
      "outputs": []
    },
    {
      "cell_type": "code",
      "metadata": {
        "id": "NIzkE6YJV9Nm",
        "colab_type": "code",
        "colab": {
          "base_uri": "https://localhost:8080/",
          "height": 374
        },
        "outputId": "c30a9917-d2ba-4ea5-e4d8-7e2600be5148"
      },
      "source": [
        "learn.lr_find()\n",
        "learn.recorder.plot()"
      ],
      "execution_count": null,
      "outputs": [
        {
          "output_type": "display_data",
          "data": {
            "text/html": [
              "\n",
              "    <div>\n",
              "        <style>\n",
              "            /* Turns off some styling */\n",
              "            progress {\n",
              "                /* gets rid of default border in Firefox and Opera. */\n",
              "                border: none;\n",
              "                /* Needs to be in here for Safari polyfill so background images work as expected. */\n",
              "                background-size: auto;\n",
              "            }\n",
              "            .progress-bar-interrupted, .progress-bar-interrupted::-webkit-progress-bar {\n",
              "                background: #F44336;\n",
              "            }\n",
              "        </style>\n",
              "      <progress value='0' class='' max='1' style='width:300px; height:20px; vertical-align: middle;'></progress>\n",
              "      0.00% [0/1 00:00<00:00]\n",
              "    </div>\n",
              "    \n",
              "<table border=\"1\" class=\"dataframe\">\n",
              "  <thead>\n",
              "    <tr style=\"text-align: left;\">\n",
              "      <th>epoch</th>\n",
              "      <th>train_loss</th>\n",
              "      <th>valid_loss</th>\n",
              "      <th>mean_absolute_error</th>\n",
              "      <th>root_mean_squared_error</th>\n",
              "      <th>time</th>\n",
              "    </tr>\n",
              "  </thead>\n",
              "  <tbody>\n",
              "  </tbody>\n",
              "</table><p>\n",
              "\n",
              "    <div>\n",
              "        <style>\n",
              "            /* Turns off some styling */\n",
              "            progress {\n",
              "                /* gets rid of default border in Firefox and Opera. */\n",
              "                border: none;\n",
              "                /* Needs to be in here for Safari polyfill so background images work as expected. */\n",
              "                background-size: auto;\n",
              "            }\n",
              "            .progress-bar-interrupted, .progress-bar-interrupted::-webkit-progress-bar {\n",
              "                background: #F44336;\n",
              "            }\n",
              "        </style>\n",
              "      <progress value='78' class='' max='10579' style='width:300px; height:20px; vertical-align: middle;'></progress>\n",
              "      0.74% [78/10579 00:00<02:08 0.6151]\n",
              "    </div>\n",
              "    "
            ],
            "text/plain": [
              "<IPython.core.display.HTML object>"
            ]
          },
          "metadata": {
            "tags": []
          }
        },
        {
          "output_type": "stream",
          "text": [
            "LR Finder is complete, type {learner_name}.recorder.plot() to see the graph.\n"
          ],
          "name": "stdout"
        },
        {
          "output_type": "display_data",
          "data": {
            "image/png": "[encoded data removed]",
            "text/plain": [
              "<Figure size 432x288 with 1 Axes>"
            ]
          },
          "metadata": {
            "tags": [],
            "needs_background": "light"
          }
        }
      ]
    },
    {
      "cell_type": "code",
      "metadata": {
        "id": "iXCR1Bhv2Bi7",
        "colab_type": "code",
        "colab": {
          "base_uri": "https://localhost:8080/",
          "height": 1000
        },
        "outputId": "468605c1-4e9c-4845-d74a-5b7face36285"
      },
      "source": [
        "learn = tabular_learner(data, layers=[1000 ,800, 600, 400, 200, 100, 16], emb_drop=0.2, metrics=[mae, rmse],callback_fns=ShowGraph)\n",
        "\n",
        "learn.fit_one_cycle(3, max_lr=slice(1e-03))\n",
        "learn.fit_one_cycle(3, max_lr=slice(5e-05))\n",
        "learn.model\n",
        "learn.recorder.plot_losses()\n",
        "learn.load('ODSC-checkpoint-6')\n",
        "# Model_Path = Path('/content/drive/My Drive')\n",
        "# learn.model_dir = Model_Path\n",
        "# learn.load('ODSC-checkpoint-6');"
      ],
      "execution_count": null,
      "outputs": [
        {
          "output_type": "display_data",
          "data": {
            "text/html": [
              "<table border=\"1\" class=\"dataframe\">\n",
              "  <thead>\n",
              "    <tr style=\"text-align: left;\">\n",
              "      <th>epoch</th>\n",
              "      <th>train_loss</th>\n",
              "      <th>valid_loss</th>\n",
              "      <th>mean_absolute_error</th>\n",
              "      <th>root_mean_squared_error</th>\n",
              "      <th>time</th>\n",
              "    </tr>\n",
              "  </thead>\n",
              "  <tbody>\n",
              "    <tr>\n",
              "      <td>0</td>\n",
              "      <td>0.193817</td>\n",
              "      <td>0.161966</td>\n",
              "      <td>0.285658</td>\n",
              "      <td>0.398962</td>\n",
              "      <td>02:03</td>\n",
              "    </tr>\n",
              "    <tr>\n",
              "      <td>1</td>\n",
              "      <td>0.138917</td>\n",
              "      <td>0.141760</td>\n",
              "      <td>0.265035</td>\n",
              "      <td>0.373076</td>\n",
              "      <td>02:03</td>\n",
              "    </tr>\n",
              "    <tr>\n",
              "      <td>2</td>\n",
              "      <td>0.126092</td>\n",
              "      <td>0.109105</td>\n",
              "      <td>0.219407</td>\n",
              "      <td>0.326213</td>\n",
              "      <td>02:03</td>\n",
              "    </tr>\n",
              "  </tbody>\n",
              "</table>"
            ],
            "text/plain": [
              "<IPython.core.display.HTML object>"
            ]
          },
          "metadata": {
            "tags": []
          }
        },
        {
          "output_type": "display_data",
          "data": {
            "image/png": "[encoded data removed]",
            "text/plain": [
              "<Figure size 432x288 with 1 Axes>"
            ]
          },
          "metadata": {
            "tags": []
          }
        },
        {
          "output_type": "display_data",
          "data": {
            "text/html": [
              "<table border=\"1\" class=\"dataframe\">\n",
              "  <thead>\n",
              "    <tr style=\"text-align: left;\">\n",
              "      <th>epoch</th>\n",
              "      <th>train_loss</th>\n",
              "      <th>valid_loss</th>\n",
              "      <th>mean_absolute_error</th>\n",
              "      <th>root_mean_squared_error</th>\n",
              "      <th>time</th>\n",
              "    </tr>\n",
              "  </thead>\n",
              "  <tbody>\n",
              "    <tr>\n",
              "      <td>0</td>\n",
              "      <td>0.114347</td>\n",
              "      <td>0.104674</td>\n",
              "      <td>0.217212</td>\n",
              "      <td>0.319799</td>\n",
              "      <td>02:03</td>\n",
              "    </tr>\n",
              "    <tr>\n",
              "      <td>1</td>\n",
              "      <td>0.120164</td>\n",
              "      <td>0.117421</td>\n",
              "      <td>0.224879</td>\n",
              "      <td>0.337848</td>\n",
              "      <td>02:02</td>\n",
              "    </tr>\n",
              "    <tr>\n",
              "      <td>2</td>\n",
              "      <td>0.109069</td>\n",
              "      <td>0.119517</td>\n",
              "      <td>0.219974</td>\n",
              "      <td>0.340168</td>\n",
              "      <td>02:02</td>\n",
              "    </tr>\n",
              "  </tbody>\n",
              "</table>"
            ],
            "text/plain": [
              "<IPython.core.display.HTML object>"
            ]
          },
          "metadata": {
            "tags": []
          }
        },
        {
          "output_type": "display_data",
          "data": {
            "image/png": "[encoded data removed]",
            "text/plain": [
              "<Figure size 432x288 with 1 Axes>"
            ]
          },
          "metadata": {
            "tags": []
          }
        },
        {
          "output_type": "display_data",
          "data": {
            "image/png": "[encoded data removed]",
            "text/plain": [
              "<Figure size 432x288 with 1 Axes>"
            ]
          },
          "metadata": {
            "tags": [],
            "needs_background": "light"
          }
        }
      ]
    },
    {
      "cell_type": "code",
      "metadata": {
        "id": "a-l05jD-ORSf",
        "colab_type": "code",
        "colab": {}
      },
      "source": [
        "### MAE:  0.3405068749729891\n",
        "### Overal RMSE:  0.4509225178553229\n",
        "\n",
        "\n",
        "learn = tabular_learner(data, layers=[1000 ,250, 250, 125, 125, 25, 25], emb_drop=0.2, metrics=mae)\n",
        "# learn.fit_one_cycle(3, max_lr=slice(1e-03))\n",
        "\n",
        "Model_Path = Path('/content/drive/My Drive')\n",
        "learn.model_dir = Model_Path\n",
        "learn.load('ODSC-checkpoint-4');"
      ],
      "execution_count": null,
      "outputs": []
    },
    {
      "cell_type": "code",
      "metadata": {
        "id": "WvPxwgWzJukc",
        "colab_type": "code",
        "colab": {}
      },
      "source": [
        "### MAE:  0.35305798672580796\n",
        "### Overal RMSE:  0.5317789645538487\n",
        "\n",
        "# learn = tabular_learner(data, layers=[1280, 320, 80, 20], emb_drop=0.2, metrics=mae)\n",
        "\n",
        "# learn.fit_one_cycle(4, max_lr=slice(1e-03))\n",
        "\n",
        "# Model_Path = Path('/content/drive/My Drive')\n",
        "# learn.model_dir = Model_Path\n",
        "# learn.load('ODSC-checkpoint-3');"
      ],
      "execution_count": null,
      "outputs": []
    },
    {
      "cell_type": "code",
      "metadata": {
        "id": "n9jtuqEHlT77",
        "colab_type": "code",
        "colab": {}
      },
      "source": [
        "### MAE:  0.34296352864942475\n",
        "### RMSE: 0.46369192719119134\n",
        "\n",
        "learn = tabular_learner(data, layers=[1000 ,250, 250, 125, 25], emb_drop=0.2, metrics=mae)\n",
        "# learn.fit_one_cycle(2, max_lr=slice(1e-03))\n",
        "\n",
        "\n",
        "Model_Path = Path('/content/drive/My Drive')\n",
        "learn.model_dir = Model_Path\n",
        "learn.load('ODSC-checkpoint-2');\n",
        "\n"
      ],
      "execution_count": 12,
      "outputs": []
    },
    {
      "cell_type": "code",
      "metadata": {
        "id": "RoFVL3ofqhW8",
        "colab_type": "code",
        "colab": {}
      },
      "source": [
        "### MAE:  0.3504803743939919\n",
        "### Overal RMSE:  0.5317789645538487\n",
        "# * MAE of  pm :  0.39547030833910907\n",
        "# * MAE of  stator_tooth :  0.3412957371012223\n",
        "# * MAE of  stator_yoke :  0.25109873452987186\n",
        "# * MAE of  stator_winding :  0.41405671760576357\n",
        "\n",
        "# learn = tabular_learner(data, layers=[1000 ,500, 250, 250, 125, 125, 25], metrics=mae, emb_drop=0.1, callback_fns=ShowGraph)\n",
        "# learn.fit_one_cycle(12, max_lr=slice(1e-03))\n",
        "# learn.model\n",
        "# learn.recorder.plot_losses()\n",
        "\n",
        "# Model_Path = Path('/content/drive/My Drive')\n",
        "# learn.model_dir = Model_Path\n",
        "# learn.save('ODSC-checkpoint-5');\n",
        "# learn.load('ODSC-checkpoint-5');"
      ],
      "execution_count": null,
      "outputs": []
    },
    {
      "cell_type": "markdown",
      "metadata": {
        "id": "VWqSfICO06og",
        "colab_type": "text"
      },
      "source": [
        "# Evaluation on test data\n",
        "\n",
        "The cell below is set up to test out individual models to see how they perform and where they could improve."
      ]
    },
    {
      "cell_type": "code",
      "metadata": {
        "id": "dJyfle9v1HeR",
        "colab_type": "code",
        "colab": {
          "base_uri": "https://localhost:8080/",
          "height": 102
        },
        "outputId": "867c5f59-f6b6-4d9f-8f66-a2c18063c50e"
      },
      "source": [
        "from sklearn.metrics import mean_squared_error\n",
        "import math\n",
        "\n",
        "preds = learn.get_preds(ds_type=DatasetType.Test)\n",
        "\n",
        "submission_preds = pd.DataFrame(preds[0][:,:].numpy(), columns=y_cols)\n",
        "\n",
        "print('* Overal RMSE: ', math.sqrt(mean_squared_error(submission_preds, solutions)))\n",
        "print('* RMSE of ', y_cols[0], ': ',  math.sqrt(mean_squared_error(submission_preds[y_cols[0]], solutions[y_cols[0]])))\n",
        "print('* RMSE of ', y_cols[1], ': ',  math.sqrt(mean_squared_error(submission_preds[y_cols[1]], solutions[y_cols[1]])))\n",
        "print('* RMSE of ', y_cols[2], ': ',  math.sqrt(mean_squared_error(submission_preds[y_cols[2]], solutions[y_cols[2]])))\n",
        "print('* RMSE of ', y_cols[3], ': ',  math.sqrt(mean_squared_error(submission_preds[y_cols[3]], solutions[y_cols[3]])))"
      ],
      "execution_count": 13,
      "outputs": [
        {
          "output_type": "display_data",
          "data": {
            "text/html": [
              ""
            ],
            "text/plain": [
              "<IPython.core.display.HTML object>"
            ]
          },
          "metadata": {
            "tags": []
          }
        },
        {
          "output_type": "stream",
          "text": [
            "* Overal RMSE:  0.4785527186688116\n",
            "* RMSE of  pm :  0.5793460836903713\n",
            "* RMSE of  stator_tooth :  0.4466858823579699\n",
            "* RMSE of  stator_yoke :  0.3379857421156511\n",
            "* RMSE of  stator_winding :  0.5163780534864765\n"
          ],
          "name": "stdout"
        }
      ]
    },
    {
      "cell_type": "code",
      "metadata": {
        "id": "-aqMgOSr_th0",
        "colab_type": "code",
        "colab": {
          "base_uri": "https://localhost:8080/",
          "height": 119
        },
        "outputId": "7c1725f6-2485-426d-d99a-218f3ba03f36"
      },
      "source": [
        "# Below for comparison is the of a model that always gueses the mean value.\n",
        "submission_preds[:] = np.zeros(submission_preds.shape)\n",
        "print('* Overal MAE: ', mean_squared_error(submission_preds, solutions))\n",
        "print('* Overal RMSE: ', math.sqrt(mean_squared_error(submission_preds, solutions)))\n",
        "print('* RMSE of ', y_cols[0], ': ',  math.sqrt(mean_squared_error(submission_preds[y_cols[0]], solutions[y_cols[0]])))\n",
        "print('* RMSE of ', y_cols[1], ': ',  math.sqrt(mean_squared_error(submission_preds[y_cols[1]], solutions[y_cols[1]])))\n",
        "print('* RMSE of ', y_cols[2], ': ',  math.sqrt(mean_squared_error(submission_preds[y_cols[2]], solutions[y_cols[2]])))\n",
        "print('* RMSE of ', y_cols[3], ': ',  math.sqrt(mean_squared_error(submission_preds[y_cols[3]], solutions[y_cols[3]])))"
      ],
      "execution_count": 14,
      "outputs": [
        {
          "output_type": "stream",
          "text": [
            "* Overal MAE:  0.8365248340181628\n",
            "* Overal RMSE:  0.9146173156124712\n",
            "* RMSE of  pm :  0.977403021277897\n",
            "* RMSE of  stator_tooth :  0.8673116394075276\n",
            "* RMSE of  stator_yoke :  0.8076073251722856\n",
            "* RMSE of  stator_winding :  0.993138257517928\n"
          ],
          "name": "stdout"
        }
      ]
    },
    {
      "cell_type": "markdown",
      "metadata": {
        "id": "MT33zABSrLAF",
        "colab_type": "text"
      },
      "source": [
        "# A Blended model aproach\n",
        "\n",
        "The code below is used to blend multiple different models results into one submission."
      ]
    },
    {
      "cell_type": "code",
      "metadata": {
        "id": "fe2JO8LGpj-_",
        "colab_type": "code",
        "colab": {}
      },
      "source": [
        "# Load the models to blend the score:\n",
        "Model_Path = Path('/content/drive/My Drive')\n",
        "\n",
        "learn_6 = tabular_learner(data, layers=[1000 ,800, 600, 400, 200, 100, 16], emb_drop=0.2, metrics=[mae, rmse],callback_fns=ShowGraph)\n",
        "learn_6.model_dir = Model_Path\n",
        "learn_6.load('ODSC-checkpoint-6')\n",
        "\n",
        "learn_5 = tabular_learner(data, layers=[1000 ,500, 250, 250, 125, 125, 25], metrics=mae, emb_drop=0.1, callback_fns=ShowGraph)\n",
        "learn_5.model_dir = Model_Path\n",
        "learn_5.load('ODSC-checkpoint-5')\n",
        "\n",
        "learn_4 = tabular_learner(data, layers=[1000 ,250, 250, 125, 125, 25, 25], emb_drop=0.2, metrics=mae)\n",
        "learn_4.model_dir = Model_Path\n",
        "learn_4.load('ODSC-checkpoint-4')\n",
        "\n",
        "learn_3 = tabular_learner(data, layers=[1280, 320, 80, 20], emb_drop=0.2, metrics=mae)\n",
        "learn_3.model_dir = Model_Path\n",
        "learn_3.load('ODSC-checkpoint-3')\n",
        "\n",
        "learn_2 = tabular_learner(data, layers=[1000 ,250, 250, 125, 25], emb_drop=0.2, metrics=mae)\n",
        "learn_2.model_dir = Model_Path\n",
        "learn_2.load('ODSC-checkpoint-2');"
      ],
      "execution_count": 6,
      "outputs": []
    },
    {
      "cell_type": "code",
      "metadata": {
        "id": "CB5kpLHOoJTJ",
        "colab_type": "code",
        "colab": {
          "base_uri": "https://localhost:8080/",
          "height": 17
        },
        "outputId": "bbb7481c-94e3-456e-ac73-79e9c269b715"
      },
      "source": [
        "preds_6 = learn_6.get_preds(ds_type=DatasetType.Test)\n",
        "preds_5 = learn_5.get_preds(ds_type=DatasetType.Test)\n",
        "preds_4 = learn_4.get_preds(ds_type=DatasetType.Test)\n",
        "preds_3 = learn_3.get_preds(ds_type=DatasetType.Test)\n",
        "preds_2 = learn_2.get_preds(ds_type=DatasetType.Test)"
      ],
      "execution_count": 9,
      "outputs": [
        {
          "output_type": "display_data",
          "data": {
            "text/html": [
              ""
            ],
            "text/plain": [
              "<IPython.core.display.HTML object>"
            ]
          },
          "metadata": {
            "tags": []
          }
        },
        {
          "output_type": "display_data",
          "data": {
            "text/html": [
              ""
            ],
            "text/plain": [
              "<IPython.core.display.HTML object>"
            ]
          },
          "metadata": {
            "tags": []
          }
        },
        {
          "output_type": "display_data",
          "data": {
            "text/html": [
              ""
            ],
            "text/plain": [
              "<IPython.core.display.HTML object>"
            ]
          },
          "metadata": {
            "tags": []
          }
        },
        {
          "output_type": "display_data",
          "data": {
            "text/html": [
              ""
            ],
            "text/plain": [
              "<IPython.core.display.HTML object>"
            ]
          },
          "metadata": {
            "tags": []
          }
        },
        {
          "output_type": "display_data",
          "data": {
            "text/html": [
              ""
            ],
            "text/plain": [
              "<IPython.core.display.HTML object>"
            ]
          },
          "metadata": {
            "tags": []
          }
        }
      ]
    },
    {
      "cell_type": "code",
      "metadata": {
        "id": "9veQwtGHuq_X",
        "colab_type": "code",
        "colab": {
          "base_uri": "https://localhost:8080/",
          "height": 119
        },
        "outputId": "a2ef7e0e-3740-4608-d3af-24460f151555"
      },
      "source": [
        "# Below for comparison is the of a model that always gueses the mean value.\n",
        "preds_mean = (np.array(preds_4[0]) +  np.array(preds_2[0]) + np.array(preds_5[0]) + np.array(preds_3[0]))/4.\n",
        "preds_mean = pd.DataFrame(preds_mean, columns=y_cols)\n",
        "print('* Overal RMSE: ', math.sqrt(mean_squared_error(preds_mean, solutions)))\n",
        "print('* RMSE of ', y_cols[0], ': ',  math.sqrt(mean_squared_error(preds_mean[y_cols[0]], solutions[y_cols[0]])))\n",
        "print('* RMSE of ', y_cols[1], ': ',  math.sqrt(mean_squared_error(preds_mean[y_cols[1]], solutions[y_cols[1]])))\n",
        "print('* RMSE of ', y_cols[2], ': ',  math.sqrt(mean_squared_error(preds_mean[y_cols[2]], solutions[y_cols[2]])))\n",
        "print('* RMSE of ', y_cols[3], ': ',  math.sqrt(mean_squared_error(preds_mean[y_cols[3]], solutions[y_cols[3]])))\n",
        "print('* Overal Mean Absolute Error: ', mean_squared_error(preds_mean, solutions))"
      ],
      "execution_count": 18,
      "outputs": [
        {
          "output_type": "stream",
          "text": [
            "* Overal RMSE:  0.46787087842874925\n",
            "* RMSE of  pm :  0.5655782793556233\n",
            "* RMSE of  stator_tooth :  0.43521253814372535\n",
            "* RMSE of  stator_yoke :  0.3251881871060305\n",
            "* RMSE of  stator_winding :  0.5104669774403504\n",
            "* Overal Mean Absolute Error:  0.21890315888168946\n"
          ],
          "name": "stdout"
        }
      ]
    },
    {
      "cell_type": "code",
      "metadata": {
        "id": "dA0jxJS46IWN",
        "colab_type": "code",
        "colab": {}
      },
      "source": [
        "preds_mean.to_csv('/content/drive/My Drive/predicted_temperatures.csv')"
      ],
      "execution_count": 20,
      "outputs": []
    },
    {
      "cell_type": "markdown",
      "metadata": {
        "id": "ryRjWrZyDo_H",
        "colab_type": "text"
      },
      "source": [
        "# Conclusion:\n",
        "By taking the average of multiple decently performing models we were not able to improve the root mean squared error. The blend resulted in an RMSE score of around .47, where the best individual model in the blend could achieve a score of .45. *However*, the mean absolute error of the blend (average distance the prediction has from the actual value) went from a score of .35 for indiviual models down to .21\n",
        "  To put that into perspective. if a model only guessed the mean value for each entry, it would score .91 for RMSE and .83 for MAE"
      ]
    }
  ]
}